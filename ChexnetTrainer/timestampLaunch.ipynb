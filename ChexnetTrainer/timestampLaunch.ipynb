import os
import numpy as np
import time
import sys

timestampTime = time.strftime("%H%M%S")
timestampDate = time.strftime("%d%m%Y")
timestampLaunch = timestampDate + '-' + timestampTime

print(timestampLaunch)
